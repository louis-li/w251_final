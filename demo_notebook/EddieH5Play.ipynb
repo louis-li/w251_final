{
 "cells": [
  {
   "cell_type": "markdown",
   "metadata": {},
   "source": [
    "```\n",
    "esalina@2018comp:/mnt/five_tera/PlantsApp/eddie_docker$ docker build .\n",
    "Sending build context to Docker daemon  2.048kB\n",
    "Step 1/1 : FROM jupyter/tensorflow-notebook:4a112c0f11eb\n",
    " ---> 955c541a5ce1\n",
    "Successfully built 955c541a5ce1\n",
    "esalina@2018comp:/mnt/five_tera/PlantsApp/eddie_docker$ cat Dockerfile \n",
    "FROM jupyter/tensorflow-notebook:4a112c0f11eb\n",
    "esalina@2018comp:/mnt/five_tera/PlantsApp/eddie_docker$ cd ..\n",
    "esalina@2018comp:/mnt/five_tera/PlantsApp$ history |grep -Pi '955c541a5ce1'\n",
    " 1901  docker run -p 8888:8888 -v ${PWD}:/home/jovyan/work   -it 955c541a5ce1 /bin/bash\n",
    " 2012  history |grep -Pi '955c541a5ce1'\n",
    "esalina@2018comp:/mnt/five_tera/PlantsApp$ docker run -p 8888:8888 -v ${PWD}:/home/jovyan/work   -it 955c541a5ce1 /bin/bash\n",
    "```\n"
   ]
  },
  {
   "cell_type": "code",
   "execution_count": 1,
   "metadata": {},
   "outputs": [],
   "source": [
    "# %tensorflow_version 2.x\n",
    "import tensorflow as tf\n",
    "from tensorflow.keras import applications,optimizers, Sequential\n",
    "from tensorflow.keras.layers import *\n",
    "from tensorflow.keras.regularizers import l2\n",
    "from tensorflow.keras.callbacks import Callback\n",
    "from tensorflow.keras import layers\n",
    "from tensorflow.keras.models import Model\n",
    "from tensorflow.keras.preprocessing import image\n",
    "import tensorflow.keras.backend as K\n",
    "#from keras_applications.imagenet_utils import _obtain_input_shape\n",
    "from tensorflow.keras.callbacks import ModelCheckpoint,EarlyStopping, Callback"
   ]
  },
  {
   "cell_type": "code",
   "execution_count": 2,
   "metadata": {},
   "outputs": [],
   "source": [
    "def model_dropout_before_flatten():\n",
    "    '''\n",
    "    A LeNet inspired CNN that gradually decreases in image size, but increases \n",
    "    in channel depth. We end with Dense layers to bring flattened representation gradually down\n",
    "    to 30, which is the number of target outputs\n",
    "    \n",
    "    Model uses ReLu activation functions, and the Adam optimizer\n",
    "    '''\n",
    "    model = Sequential()\n",
    "    model.add(Conv2D(16, (3, 3), activation=\"relu\", input_shape = (96,96,1)))\n",
    "    model.add(Conv2D(16, (3, 3), activation=\"relu\", input_shape = (96,96,1)))\n",
    "    model.add(MaxPooling2D(pool_size=(2, 2)))\n",
    "    model.add(Conv2D(32, (3, 3), activation=\"relu\"))\n",
    "    model.add(Conv2D(32, (3, 3), activation=\"relu\"))\n",
    "    model.add(MaxPooling2D(pool_size=(2, 2)))\n",
    "    model.add(Conv2D(64, (3, 3), activation=\"relu\"))\n",
    "    model.add(Conv2D(64, (3, 3), activation=\"relu\"))\n",
    "    model.add(MaxPooling2D(pool_size=(2, 2)))\n",
    "    model.add(Dropout(0.5))\n",
    "    model.add(Flatten())\n",
    "    model.add(Dense(512, activation='relu'))\n",
    "    model.add(Dense(256, activation='relu'))\n",
    "    model.add(Dense(128, activation='relu'))\n",
    "    model.add(Dense(30, activation=None))\n",
    "    model.compile(optimizer='adam',\n",
    "                  loss='mean_squared_error')\n",
    "    return model"
   ]
  },
  {
   "cell_type": "code",
   "execution_count": 3,
   "metadata": {},
   "outputs": [],
   "source": [
    "weights_file='final.h5'\n",
    "model_iterative = model_dropout_before_flatten()\n",
    "model_iterative.load_weights(weights_file)"
   ]
  },
  {
   "cell_type": "code",
   "execution_count": 4,
   "metadata": {},
   "outputs": [],
   "source": [
    "#https://stackoverflow.com/questions/47266383/save-and-load-weights-in-keras"
   ]
  },
  {
   "cell_type": "code",
   "execution_count": 5,
   "metadata": {},
   "outputs": [
    {
     "name": "stdout",
     "output_type": "stream",
     "text": [
      "WARNING:tensorflow:From /opt/conda/lib/python3.8/site-packages/tensorflow/python/training/tracking/tracking.py:111: Model.state_updates (from tensorflow.python.keras.engine.training) is deprecated and will be removed in a future version.\n",
      "Instructions for updating:\n",
      "This property should not be used in TensorFlow 2.0, as updates are applied automatically.\n",
      "WARNING:tensorflow:From /opt/conda/lib/python3.8/site-packages/tensorflow/python/training/tracking/tracking.py:111: Layer.updates (from tensorflow.python.keras.engine.base_layer) is deprecated and will be removed in a future version.\n",
      "Instructions for updating:\n",
      "This property should not be used in TensorFlow 2.0, as updates are applied automatically.\n",
      "INFO:tensorflow:Assets written to: final.h5.wam.dat/assets\n"
     ]
    }
   ],
   "source": [
    "filepath=weights_file+\".wam.dat\"\n",
    "model_iterative.save(filepath)"
   ]
  },
  {
   "cell_type": "code",
   "execution_count": 6,
   "metadata": {},
   "outputs": [
    {
     "name": "stdout",
     "output_type": "stream",
     "text": [
      "WARNING:tensorflow:From /opt/conda/lib/python3.8/site-packages/tensorflow/lite/python/lite.py:1488: set_learning_phase (from tensorflow.python.keras.backend) is deprecated and will be removed after 2020-10-11.\n",
      "Instructions for updating:\n",
      "Simply pass a True/False value to the `training` argument of the `__call__` method of your layer or model.\n",
      "INFO:tensorflow:Assets written to: /tmp/tmp4q03h3e1/assets\n",
      "WARNING:tensorflow:From /opt/conda/lib/python3.8/site-packages/tensorflow/lite/python/convert_saved_model.py:60: load (from tensorflow.python.saved_model.loader_impl) is deprecated and will be removed in a future version.\n",
      "Instructions for updating:\n",
      "This function will only be available through the v1 compatibility library as tf.compat.v1.saved_model.loader.load or tf.compat.v1.saved_model.load. There will be a new function for importing SavedModels in Tensorflow 2.0.\n",
      "INFO:tensorflow:Restoring parameters from /tmp/tmp4q03h3e1/variables/variables\n",
      "INFO:tensorflow:The given SavedModel MetaGraphDef contains SignatureDefs with the following keys: {'serving_default', '__saved_model_init_op'}\n",
      "INFO:tensorflow:input tensors info: \n",
      "INFO:tensorflow:Tensor's key in saved_model's tensor_map: conv2d_input\n",
      "INFO:tensorflow: tensor name: serving_default_conv2d_input:0, shape: (-1, 96, 96, 1), type: DT_FLOAT\n",
      "INFO:tensorflow:output tensors info: \n",
      "INFO:tensorflow:Tensor's key in saved_model's tensor_map: dense_3\n",
      "INFO:tensorflow: tensor name: StatefulPartitionedCall:0, shape: (-1, 30), type: DT_FLOAT\n",
      "INFO:tensorflow:Restoring parameters from /tmp/tmp4q03h3e1/variables/variables\n",
      "WARNING:tensorflow:From /opt/conda/lib/python3.8/site-packages/tensorflow/lite/python/util.py:274: convert_variables_to_constants (from tensorflow.python.framework.graph_util_impl) is deprecated and will be removed in a future version.\n",
      "Instructions for updating:\n",
      "Use `tf.compat.v1.graph_util.convert_variables_to_constants`\n",
      "WARNING:tensorflow:From /opt/conda/lib/python3.8/site-packages/tensorflow/python/framework/convert_to_constants.py:854: extract_sub_graph (from tensorflow.python.framework.graph_util_impl) is deprecated and will be removed in a future version.\n",
      "Instructions for updating:\n",
      "Use `tf.compat.v1.graph_util.extract_sub_graph`\n"
     ]
    },
    {
     "data": {
      "text/plain": [
       "9355968"
      ]
     },
     "execution_count": 6,
     "metadata": {},
     "output_type": "execute_result"
    }
   ],
   "source": [
    "#import tensorflow as tf\n",
    "#converter = tf.lite.TFLiteConverter.from_keras_model_file('crop.h5') \n",
    "converter=tf.compat.v1.lite.TFLiteConverter.from_keras_model_file(filepath)\n",
    "tfmodel = converter.convert() \n",
    "open (\"output.tflite\" , \"wb\") .write(tfmodel)"
   ]
  },
  {
   "cell_type": "code",
   "execution_count": null,
   "metadata": {},
   "outputs": [],
   "source": []
  }
 ],
 "metadata": {
  "kernelspec": {
   "display_name": "Python 3",
   "language": "python",
   "name": "python3"
  },
  "language_info": {
   "codemirror_mode": {
    "name": "ipython",
    "version": 3
   },
   "file_extension": ".py",
   "mimetype": "text/x-python",
   "name": "python",
   "nbconvert_exporter": "python",
   "pygments_lexer": "ipython3",
   "version": "3.8.5"
  }
 },
 "nbformat": 4,
 "nbformat_minor": 4
}
